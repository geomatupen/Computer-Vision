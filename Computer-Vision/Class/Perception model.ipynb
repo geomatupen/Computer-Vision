{
 "cells": [
  {
   "cell_type": "code",
   "execution_count": 8,
   "id": "12ae8065-5d99-4d76-ab01-967f3ed709f3",
   "metadata": {},
   "outputs": [
    {
     "name": "stdout",
     "output_type": "stream",
     "text": [
      "tensor([[0],\n",
      "        [0],\n",
      "        [0],\n",
      "        [1]], dtype=torch.int32)\n"
     ]
    }
   ],
   "source": [
    "import torch\n",
    "import torch.nn as nn\n",
    "import matplotlib.pyplot as plt\n",
    "\n",
    "# Step 1: Define f as an nn.Linear transformation\n",
    "f = nn.Linear(2, 1)\n",
    "\n",
    "# Step 2: Set the weights and bias manually\n",
    "with torch.no_grad():\n",
    "    f.weight = nn.Parameter(torch.tensor([[1.0, 1.0]]))  # AND gate weights\n",
    "    f.bias = nn.Parameter(torch.tensor([-1.5]))          # AND gate bias\n",
    "\n",
    "# Step 3: Define the inputs (AND gate truth table)\n",
    "inputs = torch.tensor([[0, 0], [0, 1], [1, 0], [1, 1]], dtype=torch.float32)\n",
    "\n",
    "# Step 4: Apply the linear transformation and thresholding\n",
    "outputs = (f(inputs) > 0).int()  # AND gate: outputs will be 0 or 1\n",
    "print(outputs)"
   ]
  },
  {
   "cell_type": "code",
   "execution_count": null,
   "id": "66f4120a-3f1c-4b32-aa53-34b14d255bcf",
   "metadata": {},
   "outputs": [],
   "source": []
  }
 ],
 "metadata": {
  "kernelspec": {
   "display_name": "Python 3 (ipykernel)",
   "language": "python",
   "name": "python3"
  },
  "language_info": {
   "codemirror_mode": {
    "name": "ipython",
    "version": 3
   },
   "file_extension": ".py",
   "mimetype": "text/x-python",
   "name": "python",
   "nbconvert_exporter": "python",
   "pygments_lexer": "ipython3",
   "version": "3.12.4"
  }
 },
 "nbformat": 4,
 "nbformat_minor": 5
}
