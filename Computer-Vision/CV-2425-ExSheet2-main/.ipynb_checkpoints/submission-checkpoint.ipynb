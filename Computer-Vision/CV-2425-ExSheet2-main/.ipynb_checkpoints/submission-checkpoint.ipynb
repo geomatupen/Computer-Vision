{
 "cells": [
  {
   "cell_type": "code",
   "execution_count": 4,
   "id": "a1618690-48c7-4834-8a22-5f8f5913eff4",
   "metadata": {},
   "outputs": [
    {
     "name": "stdout",
     "output_type": "stream",
     "text": [
      "Overwriting submission_12414038.py\n"
     ]
    }
   ],
   "source": [
    "# %%writefile submission_12414038.py\n",
    "# %load submission_12414038.py\n",
    "\n",
    "\"\"\"Submission for exercise sheet 2\n",
    "\n",
    "SUBMIT this file as submission_<STUDENTID>.py where\n",
    "you replace <STUDENTID> with your student ID, e.g.,\n",
    "submission_12414038.py\n",
    "\"\"\"\n",
    "\n",
    "import torch\n",
    "import torch.nn as nn\n",
    "from typing import Callable\n",
    "\n",
    "# Exercise 2.1 (AND gate)\n",
    "def assignment_ex1(x: torch.tensor) -> Callable[[torch.tensor], torch.tensor]:\n",
    "    # YOUR CODE GOES HERE\n",
    "    \n",
    "    # Linear transformation\n",
    "    f = nn.Linear(2, 1) # the mathematical operation for nn.Linear() is x↦⟨w,x⟩+b. this takes 2 inputs and returns 1 output\n",
    "    \n",
    "    # Set the weights and bias manually\n",
    "    # Here, to make f(x)>0 it takes ⟨w,x⟩+b=(1⋅x 1)+(1⋅x 1)−1.5 to be >0. it can be upto 1.9 since max possible value is 2 for ⟨w,x⟩\n",
    "    f.weight = nn.Parameter(torch.tensor([[1.0, 1.0]]))  # AND gate weights. \n",
    "    f.bias = nn.Parameter(torch.tensor([-1.5]))          # AND gate bias. A bias of −1.5 ensures that the output only becomes positive when both inputs are 1.\n",
    "    \n",
    "    # Apply the linear transformation and thresholding\n",
    "    outputs = (f(x) > 0).int()  # outputs will be 0 or 1\n",
    "    print(outputs)\n",
    "    pass\n",
    "    \n",
    "# Exercise 2.2 (OR gate)\n",
    "def assignment_ex2(x: torch.tensor) -> Callable[[torch.tensor], torch.tensor]:\n",
    "    # YOUR CODE GOES HERE\n",
    "    \n",
    "    # Linear transformation\n",
    "    f = nn.Linear(2, 1) \n",
    "    \n",
    "    # Set the weights and bias manually for OR gate\n",
    "    # Here, ⟨w,x⟩+b=(1⋅x 1)+(1⋅x 0)−1.5 to be >0. one of the element can be 0 to become this condition true. \n",
    "    # the bias can be upto -0.1 since min possible value is 0 for ⟨w,x⟩ when both values are 0\n",
    "    f.weight = nn.Parameter(torch.tensor([[1.0, 1.0]]))  # OR gate weights\n",
    "    f.bias = nn.Parameter(torch.tensor([-0.5]))          # OR gate bias\n",
    "    \n",
    "    # Apply the linear transformation and thresholding\n",
    "    outputs = (f(x) > 0).int()  # outputs will be 0 or 1\n",
    "    print(\"Outputs for OR gate:\")\n",
    "    print(outputs)\n",
    "    \n",
    "    pass\n",
    "    \n",
    "# Define the inputs \n",
    "#input was x1 =[0,0]⊤, x2 =[0,1]⊤, x3 =[1,0] ⊤, x4 =[1,1]⊤. transposing a vector or matrix is not represented differently when printed as an array. The notation of the array stays the same, but internally, the data is interpreted or structured differently\n",
    "x = torch.tensor([[0, 0], [0, 1], [1, 0], [1, 1]], dtype=torch.float32) \n",
    "assignment_ex1(x)\n",
    "assignment_ex2(x)"
   ]
  },
  {
   "cell_type": "code",
   "execution_count": null,
   "id": "f01a2db9-43e5-42db-ad04-35fc28daea1e",
   "metadata": {},
   "outputs": [],
   "source": []
  },
  {
   "cell_type": "code",
   "execution_count": null,
   "id": "b3a291aa-bcc7-4251-8f1f-d2d56e4df810",
   "metadata": {},
   "outputs": [],
   "source": []
  }
 ],
 "metadata": {
  "kernelspec": {
   "display_name": "Python 3 (ipykernel)",
   "language": "python",
   "name": "python3"
  },
  "language_info": {
   "codemirror_mode": {
    "name": "ipython",
    "version": 3
   },
   "file_extension": ".py",
   "mimetype": "text/x-python",
   "name": "python",
   "nbconvert_exporter": "python",
   "pygments_lexer": "ipython3",
   "version": "3.12.4"
  }
 },
 "nbformat": 4,
 "nbformat_minor": 5
}
