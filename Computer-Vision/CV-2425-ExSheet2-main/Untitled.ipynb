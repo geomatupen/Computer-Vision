{
 "cells": [
  {
   "cell_type": "code",
   "execution_count": 18,
   "id": "7685725e-8ab5-4b7b-bf7c-631c7e14e366",
   "metadata": {},
   "outputs": [
    {
     "name": "stdout",
     "output_type": "stream",
     "text": [
      "torch.Size([10, 3])\n"
     ]
    }
   ],
   "source": [
    "import torch\n",
    "from einops import rearrange\n",
    "import torch.nn as nn\n",
    "\n",
    "T0 = torch.arange(2*3*3)\n",
    "# print(T0)\n",
    "\n",
    "T0 = T0.view(2,3,3)\n",
    "# print(T0)\n",
    "\n",
    "T0 = rearrange(T0, 'b i j -> b j i')\n",
    "\n",
    "# print(T0)\n",
    "\n",
    "\n",
    "\n",
    "x= torch.rand(10, 2)\n",
    "f= nn.Linear(2, 3, bias= False)  #above 10, 2 and result @ 2, 3\n",
    "\n",
    "print(f(x).shape)"
   ]
  },
  {
   "cell_type": "code",
   "execution_count": null,
   "id": "4bdb1ead-df29-4cb1-affb-09ca632ed83f",
   "metadata": {},
   "outputs": [],
   "source": []
  }
 ],
 "metadata": {
  "kernelspec": {
   "display_name": "Python 3 (ipykernel)",
   "language": "python",
   "name": "python3"
  },
  "language_info": {
   "codemirror_mode": {
    "name": "ipython",
    "version": 3
   },
   "file_extension": ".py",
   "mimetype": "text/x-python",
   "name": "python",
   "nbconvert_exporter": "python",
   "pygments_lexer": "ipython3",
   "version": "3.12.4"
  }
 },
 "nbformat": 4,
 "nbformat_minor": 5
}
